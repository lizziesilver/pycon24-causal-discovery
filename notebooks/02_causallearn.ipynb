{
 "cells": [
  {
   "cell_type": "code",
   "execution_count": 1,
   "metadata": {},
   "outputs": [],
   "source": [
    "import pandas as pd\n",
    "from causallearn.search.PermutationBased.GRaSP import grasp\n",
    "import random\n",
    "from causallearn.utils.GraphUtils import GraphUtils\n",
    "import matplotlib.image as mpimg\n",
    "import matplotlib.pyplot as plt\n",
    "import io\n",
    "\n",
    "# Visualization using pydot\n",
    "def plot_causallearn(G, colnames):\n",
    "    pyd = GraphUtils.to_pydot(G, labels=colnames)\n",
    "    tmp_png = pyd.create_png(f=\"png\")\n",
    "    fp = io.BytesIO(tmp_png)\n",
    "    img = mpimg.imread(fp, format='png')\n",
    "    plt.axis('off')\n",
    "    plt.imshow(img)\n",
    "    plt.show()"
   ]
  },
  {
   "cell_type": "code",
   "execution_count": 2,
   "metadata": {},
   "outputs": [],
   "source": [
    "df = pd.read_csv('../data/processed/cities.csv')\n",
    "df.head()"
   ]
  },
  {
   "cell_type": "code",
   "execution_count": null,
   "metadata": {},
   "outputs": [],
   "source": [
    "################################################################################\n",
    "# Permutation based search: GRaSP\n",
    "\n",
    "# good seed: 42\n",
    "# bad seed: 1\n",
    "random.seed(42)\n",
    "\n",
    "# default parameters\n",
    "colnames = ['Altitude', 'Latitude', 'Temperature']\n",
    "G = grasp(df[colnames])\n",
    "\n",
    "# # or customized parameters\n",
    "# G = grasp(X, score_func, depth, maxP, parameters)\n",
    "\n",
    "plot_causallearn(G, colnames)"
   ]
  },
  {
   "cell_type": "code",
   "execution_count": null,
   "metadata": {},
   "outputs": [],
   "source": [
    "# ################################################################################\n",
    "# # Constraint based search: PC\n",
    "\n",
    "# # good seed: 42\n",
    "# # bad seed: 1\n",
    "# random.seed(42)\n",
    "\n",
    "# # default parameters\n",
    "# colnames = ['Altitude', 'Latitude', 'Temperature']\n",
    "# G = grasp(df[colnames])\n",
    "\n",
    "# # # or customized parameters\n",
    "# # G = grasp(X, score_func, depth, maxP, parameters)\n",
    "\n",
    "# plot_causallearn(G, colnames)"
   ]
  },
  {
   "cell_type": "code",
   "execution_count": null,
   "metadata": {},
   "outputs": [],
   "source": []
  }
 ],
 "metadata": {
  "kernelspec": {
   "display_name": ".venv",
   "language": "python",
   "name": "python3"
  },
  "language_info": {
   "codemirror_mode": {
    "name": "ipython",
    "version": 3
   },
   "file_extension": ".py",
   "mimetype": "text/x-python",
   "name": "python",
   "nbconvert_exporter": "python",
   "pygments_lexer": "ipython3",
   "version": "3.10.5"
  }
 },
 "nbformat": 4,
 "nbformat_minor": 2
}
