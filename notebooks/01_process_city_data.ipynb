{
 "cells": [
  {
   "cell_type": "code",
   "execution_count": 1,
   "metadata": {},
   "outputs": [],
   "source": [
    "import pandas as pd\n",
    "import plotly.express as px"
   ]
  },
  {
   "cell_type": "code",
   "execution_count": 2,
   "metadata": {},
   "outputs": [],
   "source": [
    "# Locations from here: https://github.com/bahar/WorldCityLocations\n",
    "d1 = '../data/raw/World_Cities_Location_table.csv'\n",
    "# Temperatures from here: https://www.kaggle.com/datasets/bilalwaseer/worlds-cities-with-their-average-temperature\n",
    "d2 = '../data/raw/worlds all cities with their avg temp - Sheet1.csv'\n",
    "\n",
    "# read data\n",
    "cities = pd.read_csv(d1, sep=';', names=['id', 'Country', 'City', 'Latitude', 'Longitude', 'Altitude'])\n",
    "temps = pd.read_csv(d2)"
   ]
  },
  {
   "cell_type": "code",
   "execution_count": 3,
   "metadata": {},
   "outputs": [],
   "source": [
    "# clean data \n",
    "# take yearly average temperature. Figure in parentheses is the celsius reading.\n",
    "temps['Temperature'] = [float(x.split('(')[0].replace('\\n','').replace(\"−\", \"-\")) for x in temps['Year']]\n",
    "\n",
    "# merge locations with temperatures\n",
    "cities = cities.merge(temps[['Country', 'City', 'Temperature']], on=['Country', 'City']).drop(columns=['id'])\n",
    "\n",
    "# amsterdam actually has negative altitude at -2. Some cities have altitude -9999, presumably missing data flag\n",
    "cities = cities[cities.Altitude >-3]\n",
    "\n",
    "# write data out\n",
    "cities.to_csv('../data/processed/cities.csv', index=False)"
   ]
  },
  {
   "cell_type": "code",
   "execution_count": null,
   "metadata": {},
   "outputs": [],
   "source": [
    "cities.plot.scatter(x='Altitude', y='Temperature', figsize=(3,2) ,s=2)"
   ]
  },
  {
   "cell_type": "code",
   "execution_count": null,
   "metadata": {},
   "outputs": [],
   "source": [
    "cities.plot.scatter(x='Latitude', y='Temperature', figsize=(3,2) ,s=2)"
   ]
  },
  {
   "cell_type": "code",
   "execution_count": null,
   "metadata": {},
   "outputs": [],
   "source": [
    "cities.plot.scatter(x='Longitude', y='Temperature', figsize=(3,2) ,s=2)"
   ]
  },
  {
   "cell_type": "code",
   "execution_count": null,
   "metadata": {},
   "outputs": [],
   "source": [
    "cities.plot.scatter(x='Longitude', y='Latitude', figsize=(3,2) ,s=2)"
   ]
  },
  {
   "cell_type": "code",
   "execution_count": null,
   "metadata": {},
   "outputs": [],
   "source": [
    "cities.plot.scatter(x='Latitude', y='Altitude', figsize=(3,2) ,s=2)"
   ]
  },
  {
   "cell_type": "code",
   "execution_count": null,
   "metadata": {},
   "outputs": [],
   "source": [
    "# Create 3D scatter plot\n",
    "cities['Size'] = 2\n",
    "fig = px.scatter_3d(\n",
    "    cities,\n",
    "    x=\"Altitude\",\n",
    "    y=\"Latitude\",\n",
    "    z=\"Temperature\",\n",
    "    # color=\"Category\",\n",
    "    size='Size',\n",
    "    title=\"Interactive 3D Scatter Plot\"\n",
    ")\n",
    "\n",
    "fig.update_layout(\n",
    "    width=1000,\n",
    "    height=1000\n",
    ")\n",
    "fig.show()"
   ]
  },
  {
   "cell_type": "code",
   "execution_count": null,
   "metadata": {},
   "outputs": [],
   "source": [
    "cities[cities.Temperature < 20].plot.scatter(x='Latitude', y='Altitude')"
   ]
  },
  {
   "cell_type": "code",
   "execution_count": null,
   "metadata": {},
   "outputs": [],
   "source": [
    "cities.plot.scatter(y='Latitude', x='Longitude')"
   ]
  },
  {
   "cell_type": "code",
   "execution_count": null,
   "metadata": {},
   "outputs": [],
   "source": []
  }
 ],
 "metadata": {
  "kernelspec": {
   "display_name": ".venv",
   "language": "python",
   "name": "python3"
  },
  "language_info": {
   "codemirror_mode": {
    "name": "ipython",
    "version": 3
   },
   "file_extension": ".py",
   "mimetype": "text/x-python",
   "name": "python",
   "nbconvert_exporter": "python",
   "pygments_lexer": "ipython3",
   "version": "3.10.5"
  }
 },
 "nbformat": 4,
 "nbformat_minor": 2
}
