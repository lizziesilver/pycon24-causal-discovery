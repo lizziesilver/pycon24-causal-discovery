{
 "cells": [
  {
   "cell_type": "code",
   "execution_count": null,
   "metadata": {},
   "outputs": [],
   "source": [
    "from pytetrad.tools.TetradSearch import TetradSearch\n",
    "import pytetrad.tools.translate as tr\n",
    "import pandas as pd\n",
    "import graphviz as gviz\n",
    "\n",
    "df = pd.read_csv('../data/processed/cities.csv')\n",
    "colnames = ['Altitude', 'Latitude', 'Temperature']\n",
    "df.head()"
   ]
  },
  {
   "cell_type": "code",
   "execution_count": null,
   "metadata": {},
   "outputs": [],
   "source": [
    "# instantiate the tetrad search class\n",
    "search = TetradSearch(df[colnames])"
   ]
  },
  {
   "cell_type": "code",
   "execution_count": 15,
   "metadata": {},
   "outputs": [],
   "source": [
    "search.use_degenerate_gaussian_score(penalty_discount=2)\n",
    "search.use_degenerate_gaussian_test()\n",
    "search.run_boss()"
   ]
  },
  {
   "cell_type": "code",
   "execution_count": null,
   "metadata": {},
   "outputs": [],
   "source": [
    "g = search.get_dot()\n",
    "print(g)"
   ]
  },
  {
   "cell_type": "code",
   "execution_count": null,
   "metadata": {},
   "outputs": [],
   "source": [
    "g = search.get_java()\n",
    "gdot = gviz.Graph(format='png', \n",
    "                  engine='dot', \n",
    "                  graph_attr={'viewport': '400', \n",
    "                              'outputorder': 'edgesfirst'})\n",
    "tr.write_gdot(g, gdot)\n",
    "gdot.render(filename=\"pytetrad_cities_graph\", cleanup=True, quiet=True)"
   ]
  }
 ],
 "metadata": {
  "kernelspec": {
   "display_name": ".venv",
   "language": "python",
   "name": "python3"
  },
  "language_info": {
   "codemirror_mode": {
    "name": "ipython",
    "version": 3
   },
   "file_extension": ".py",
   "mimetype": "text/x-python",
   "name": "python",
   "nbconvert_exporter": "python",
   "pygments_lexer": "ipython3",
   "version": "3.10.5"
  }
 },
 "nbformat": 4,
 "nbformat_minor": 2
}
