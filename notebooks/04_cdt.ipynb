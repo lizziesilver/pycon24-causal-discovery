{
 "cells": [
  {
   "cell_type": "code",
   "execution_count": 7,
   "metadata": {},
   "outputs": [],
   "source": [
    "import pandas as pd\n",
    "from cdt.independence.graph import Glasso\n",
    "from cdt.causality.pairwise import ANM\n",
    "import networkx as nx\n",
    "import matplotlib.pyplot as plt\n",
    "import time\n",
    "from cdt.independence.graph import FSGNN"
   ]
  },
  {
   "cell_type": "code",
   "execution_count": null,
   "metadata": {},
   "outputs": [],
   "source": [
    "df = pd.read_csv('../data/processed/cities.csv')\n",
    "colnames = ['Altitude', 'Latitude', 'Temperature']\n",
    "df.head()"
   ]
  },
  {
   "cell_type": "code",
   "execution_count": null,
   "metadata": {},
   "outputs": [],
   "source": [
    "# start by generating a graph skeleton using glasso\n",
    "graph_skeleton = Glasso().predict(df[colnames])\n",
    "nx.draw_networkx(graph_skeleton, font_size=8)\n",
    "plt.show()"
   ]
  },
  {
   "cell_type": "code",
   "execution_count": null,
   "metadata": {},
   "outputs": [],
   "source": [
    "# then use ANM to orient and remove edges\n",
    "obj = ANM()\n",
    "output = obj.orient_graph(df[colnames], graph_skeleton)\n",
    "nx.draw_networkx(output, font_size=8)\n",
    "plt.show()"
   ]
  },
  {
   "cell_type": "code",
   "execution_count": null,
   "metadata": {},
   "outputs": [],
   "source": [
    "# Finding the structure of the graph\n",
    "Fsgnn = FSGNN(train_epochs=1000, test_epochs=500, l1=0.1, batch_size=1000)\n",
    "\n",
    "start_time = time.time()\n",
    "ugraph = Fsgnn.predict(df[colnames], threshold=1e-7)\n",
    "print(\"--- Execution time : %4.4s seconds ---\" % (time.time() - start_time))\n",
    "nx.draw_networkx(ugraph, font_size=8) # The plot function allows for quick visualization of the graph.\n",
    "plt.show()\n",
    "# List results\n",
    "pd.DataFrame(list(ugraph.edges(data='weight')))"
   ]
  }
 ],
 "metadata": {
  "kernelspec": {
   "display_name": ".venv",
   "language": "python",
   "name": "python3"
  },
  "language_info": {
   "codemirror_mode": {
    "name": "ipython",
    "version": 3
   },
   "file_extension": ".py",
   "mimetype": "text/x-python",
   "name": "python",
   "nbconvert_exporter": "python",
   "pygments_lexer": "ipython3",
   "version": "3.10.5"
  }
 },
 "nbformat": 4,
 "nbformat_minor": 2
}
